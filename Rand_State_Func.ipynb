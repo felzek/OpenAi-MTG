version https://git-lfs.github.com/spec/v1
oid sha256:fecec0d975039bcf77a4a7cbad36659b13d73bc79c165e876ad14b8b0e82a505
size 39328
